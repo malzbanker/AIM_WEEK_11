{
 "cells": [
  {
   "cell_type": "code",
   "execution_count": 3,
   "metadata": {},
   "outputs": [],
   "source": [
    "import yfinance as yf\n",
    "import pandas as pd\n",
    "import numpy as np\n",
    "import matplotlib.pyplot as plt\n",
    "from statsmodels.tsa.seasonal import seasonal_decompose"
   ]
  },
  {
   "cell_type": "code",
   "execution_count": 4,
   "metadata": {},
   "outputs": [
    {
     "name": "stdout",
     "output_type": "stream",
     "text": [
      "YF.download() has changed argument auto_adjust default to True\n"
     ]
    },
    {
     "name": "stderr",
     "output_type": "stream",
     "text": [
      "[*********************100%***********************]  3 of 3 completed\n",
      "C:\\Users\\HP\\AppData\\Local\\Temp\\ipykernel_10928\\2445882449.py:25: FutureWarning: DataFrame.fillna with 'method' is deprecated and will raise in a future version. Use obj.ffill() or obj.bfill() instead.\n",
      "  data.fillna(method='ffill', inplace=True)\n"
     ]
    }
   ],
   "source": [
    "# Fetch data\n",
    "tickers = ['TSLA', 'BND', 'SPY']\n",
    "#data = yf.download(tickers, period=\"1y\")  # Download data for the past year\n",
    "data = yf.download(tickers, start='2015-01-01', end='2025-01-31')\n",
    "# Check if 'Adj Close' is in the columns\n",
    "if 'Adj Close' in data.columns:\n",
    "    # If it is, select only 'Adj Close' and rename columns\n",
    "    data = data[['Adj Close']]\n",
    "    data.columns = tickers\n",
    "else:\n",
    "    # If not, check if there are other relevant columns\n",
    "    # like 'Close' or 'Adjusted Close'\n",
    "    if 'Close' in data.columns:\n",
    "        data = data[['Close']]\n",
    "        data.columns = tickers\n",
    "    elif 'Adjusted Close' in data.columns:\n",
    "        data = data[['Adjusted Close']]\n",
    "        data.columns = tickers\n",
    "    else:\n",
    "        raise KeyError(\"No relevant closing price column found in the data\")\n",
    "\n",
    "# ... (rest of the code remains the same)\n",
    "\n",
    "# Handle missing values\n",
    "data.fillna(method='ffill', inplace=True)"
   ]
  },
  {
   "cell_type": "code",
   "execution_count": 5,
   "metadata": {},
   "outputs": [
    {
     "name": "stdout",
     "output_type": "stream",
     "text": [
      "              TSLA          BND          SPY\n",
      "count  2535.000000  2535.000000  2535.000000\n",
      "mean     69.289451   316.067402   117.848209\n",
      "std       4.792145   117.926909   116.508288\n",
      "min      61.860889   156.800888     9.578000\n",
      "25%      65.565281   214.841972    17.228000\n",
      "50%      68.329124   277.117920    30.298000\n",
      "75%      72.879940   405.869186   221.525002\n",
      "max      78.823265   609.750000   479.859985\n",
      "<class 'pandas.core.frame.DataFrame'>\n",
      "DatetimeIndex: 2535 entries, 2015-01-02 to 2025-01-30\n",
      "Data columns (total 3 columns):\n",
      " #   Column  Non-Null Count  Dtype  \n",
      "---  ------  --------------  -----  \n",
      " 0   TSLA    2535 non-null   float64\n",
      " 1   BND     2535 non-null   float64\n",
      " 2   SPY     2535 non-null   float64\n",
      "dtypes: float64(3)\n",
      "memory usage: 79.2 KB\n",
      "None\n"
     ]
    }
   ],
   "source": [
    "# Basic statistics and data types\n",
    "print(data.describe())\n",
    "print(data.info())"
   ]
  }
 ],
 "metadata": {
  "kernelspec": {
   "display_name": "PORTFOLI",
   "language": "python",
   "name": "python3"
  },
  "language_info": {
   "codemirror_mode": {
    "name": "ipython",
    "version": 3
   },
   "file_extension": ".py",
   "mimetype": "text/x-python",
   "name": "python",
   "nbconvert_exporter": "python",
   "pygments_lexer": "ipython3",
   "version": "3.10.11"
  }
 },
 "nbformat": 4,
 "nbformat_minor": 2
}
